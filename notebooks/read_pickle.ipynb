{
 "cells": [
  {
   "cell_type": "code",
   "execution_count": 4,
   "metadata": {},
   "outputs": [],
   "source": [
    "import pickle"
   ]
  },
  {
   "cell_type": "code",
   "execution_count": 5,
   "metadata": {},
   "outputs": [],
   "source": [
    "file_path = '/home/ammara/uniformerv2/UniFormerV2/exp/k400/k400_b16_f8x224/results.pkl'\n",
    "\n",
    "infile = open(file_path,'rb')"
   ]
  },
  {
   "cell_type": "code",
   "execution_count": 6,
   "metadata": {},
   "outputs": [],
   "source": [
    "new_dict = pickle.load(infile)"
   ]
  },
  {
   "cell_type": "code",
   "execution_count": 7,
   "metadata": {},
   "outputs": [
    {
     "data": {
      "text/plain": [
       "[tensor([[0.0146, 0.0176, 0.0236,  ..., 0.0412, 0.0307, 0.0381],\n",
       "         [0.0191, 0.0295, 0.0187,  ..., 0.0203, 0.0153, 0.0917],\n",
       "         [0.0368, 0.0172, 0.0154,  ..., 0.0151, 0.0400, 0.0182]]),\n",
       " tensor([ 5,  7, 17])]"
      ]
     },
     "execution_count": 7,
     "metadata": {},
     "output_type": "execute_result"
    }
   ],
   "source": [
    "new_dict"
   ]
  },
  {
   "cell_type": "code",
   "execution_count": 7,
   "metadata": {},
   "outputs": [
    {
     "data": {
      "text/plain": [
       "2"
      ]
     },
     "execution_count": 7,
     "metadata": {},
     "output_type": "execute_result"
    }
   ],
   "source": [
    "len(new_dict)"
   ]
  },
  {
   "cell_type": "code",
   "execution_count": 8,
   "metadata": {},
   "outputs": [
    {
     "data": {
      "text/plain": [
       "tensor([[0.0146, 0.0176, 0.0236,  ..., 0.0412, 0.0307, 0.0381],\n",
       "        [0.0191, 0.0295, 0.0187,  ..., 0.0203, 0.0153, 0.0917],\n",
       "        [0.0368, 0.0172, 0.0154,  ..., 0.0151, 0.0400, 0.0182]])"
      ]
     },
     "execution_count": 8,
     "metadata": {},
     "output_type": "execute_result"
    }
   ],
   "source": [
    "new_dict[0]"
   ]
  },
  {
   "cell_type": "code",
   "execution_count": 9,
   "metadata": {},
   "outputs": [
    {
     "data": {
      "text/plain": [
       "tensor([ 5,  7, 17])"
      ]
     },
     "execution_count": 9,
     "metadata": {},
     "output_type": "execute_result"
    }
   ],
   "source": [
    "new_dict[1]"
   ]
  },
  {
   "cell_type": "code",
   "execution_count": 10,
   "metadata": {},
   "outputs": [
    {
     "data": {
      "text/plain": [
       "{'video_preds': array([[0.01457707, 0.01755716, 0.0236382 , ..., 0.04117539, 0.03066744,\n",
       "         0.03810114],\n",
       "        [0.01909614, 0.02948957, 0.01870276, ..., 0.02031545, 0.01533484,\n",
       "         0.09170036],\n",
       "        [0.03684772, 0.01722756, 0.01540973, ..., 0.01506043, 0.0399875 ,\n",
       "         0.01823055]], dtype=float32),\n",
       " 'video_labels': array([ 5,  7, 17])}"
      ]
     },
     "execution_count": 10,
     "metadata": {},
     "output_type": "execute_result"
    }
   ],
   "source": [
    "import pickle\n",
    "file_path = '/home/ammara/uniformerv2/UniFormerV2/8x224x4x3.pkl'\n",
    "infile = open(file_path,'rb')\n",
    "new_dict = pickle.load(infile)\n",
    "new_dict"
   ]
  },
  {
   "cell_type": "code",
   "execution_count": 11,
   "metadata": {},
   "outputs": [
    {
     "data": {
      "text/plain": [
       "0.12044036"
      ]
     },
     "execution_count": 11,
     "metadata": {},
     "output_type": "execute_result"
    }
   ],
   "source": [
    "max_value = new_dict['video_preds'][0].max()\n",
    "max_value"
   ]
  },
  {
   "cell_type": "code",
   "execution_count": 12,
   "metadata": {},
   "outputs": [
    {
     "data": {
      "text/plain": [
       "211"
      ]
     },
     "execution_count": 12,
     "metadata": {},
     "output_type": "execute_result"
    }
   ],
   "source": [
    "list(new_dict['video_preds'][0]).index(max_value)"
   ]
  },
  {
   "cell_type": "code",
   "execution_count": 13,
   "metadata": {},
   "outputs": [
    {
     "data": {
      "text/plain": [
       "358"
      ]
     },
     "execution_count": 13,
     "metadata": {},
     "output_type": "execute_result"
    }
   ],
   "source": [
    "max_value = new_dict['video_preds'][1].max()\n",
    "list(new_dict['video_preds'][1]).index(max_value)"
   ]
  },
  {
   "cell_type": "code",
   "execution_count": 14,
   "metadata": {},
   "outputs": [
    {
     "data": {
      "text/plain": [
       "320"
      ]
     },
     "execution_count": 14,
     "metadata": {},
     "output_type": "execute_result"
    }
   ],
   "source": [
    "max_value = new_dict['video_preds'][2].max()\n",
    "list(new_dict['video_preds'][2]).index(max_value)"
   ]
  },
  {
   "cell_type": "code",
   "execution_count": 15,
   "metadata": {},
   "outputs": [],
   "source": [
    "# only one class is predicted correctly. \n",
    "# now, find the correct labels or see if text label can be given, and set num_classes to 400. \n",
    "# it's a pretrained model, it should infer on kinetics dataset correctly"
   ]
  },
  {
   "cell_type": "code",
   "execution_count": null,
   "metadata": {},
   "outputs": [],
   "source": []
  }
 ],
 "metadata": {
  "kernelspec": {
   "display_name": "ml",
   "language": "python",
   "name": "python3"
  },
  "language_info": {
   "codemirror_mode": {
    "name": "ipython",
    "version": 3
   },
   "file_extension": ".py",
   "mimetype": "text/x-python",
   "name": "python",
   "nbconvert_exporter": "python",
   "pygments_lexer": "ipython3",
   "version": "3.8.15"
  },
  "orig_nbformat": 4,
  "vscode": {
   "interpreter": {
    "hash": "98824b8ab3fb1024bf0e5db6982363f5748f7094b84b571b0df9908ee861744b"
   }
  }
 },
 "nbformat": 4,
 "nbformat_minor": 2
}
