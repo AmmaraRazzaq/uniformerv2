{
 "cells": [
  {
   "cell_type": "code",
   "execution_count": 1,
   "metadata": {},
   "outputs": [],
   "source": [
    "import pandas as pd \n",
    "import numpy as np"
   ]
  },
  {
   "cell_type": "code",
   "execution_count": 3,
   "metadata": {},
   "outputs": [],
   "source": [
    "file_path = '/home/ammara/uniformerv2/UniFormerV2/dataset/train.csv'\n",
    "\n",
    "with open(file_path, 'r') as f:\n",
    "    mylist = f.read().splitlines()"
   ]
  },
  {
   "cell_type": "code",
   "execution_count": 4,
   "metadata": {},
   "outputs": [
    {
     "data": {
      "text/plain": [
       "['videos/Throw-in_bbox/22.mp4 3',\n",
       " 'videos/Goal_bbox/36.mp4 0',\n",
       " 'videos/Shots-off-target_bbox/49.mp4 1',\n",
       " 'videos/Shots-on-target_bbox/10.mp4 2']"
      ]
     },
     "execution_count": 4,
     "metadata": {},
     "output_type": "execute_result"
    }
   ],
   "source": [
    "mylist"
   ]
  },
  {
   "cell_type": "code",
   "execution_count": 1,
   "metadata": {},
   "outputs": [],
   "source": [
    "file_path = '/home/ammara/uniformerv2/UniFormerV2/dataset/test.csv'\n",
    "\n",
    "with open(file_path, 'r') as f:\n",
    "    mylist = f.read().splitlines()"
   ]
  },
  {
   "cell_type": "code",
   "execution_count": 2,
   "metadata": {},
   "outputs": [
    {
     "data": {
      "text/plain": [
       "['/home/ammara/uniformerv2/UniFormerV2/dataset/overfit_data/archery.mp4 0',\n",
       " '/home/ammara/uniformerv2/UniFormerV2/dataset/overfit_data/arranging_flowers.mp4 1',\n",
       " '/home/ammara/uniformerv2/UniFormerV2/dataset/overfit_data/bee_keeping.mp4 2']"
      ]
     },
     "execution_count": 2,
     "metadata": {},
     "output_type": "execute_result"
    }
   ],
   "source": [
    "mylist"
   ]
  },
  {
   "cell_type": "code",
   "execution_count": 3,
   "metadata": {},
   "outputs": [
    {
     "data": {
      "text/plain": [
       "3"
      ]
     },
     "execution_count": 3,
     "metadata": {},
     "output_type": "execute_result"
    }
   ],
   "source": [
    "len(mylist)"
   ]
  },
  {
   "cell_type": "code",
   "execution_count": 12,
   "metadata": {},
   "outputs": [
    {
     "name": "stdout",
     "output_type": "stream",
     "text": [
      "/home/ammara/uniformerv2/UniFormerV2/dataset/overfit_data/archery.mp4\n",
      "0\n"
     ]
    }
   ],
   "source": [
    "with open(file_path, 'r') as f:\n",
    "    for clip_idx, path_label in enumerate(f.read().splitlines()):\n",
    "        # print(clip_idx)\n",
    "        # print(path_label)\n",
    "        \n",
    "        path, label = path_label.split(' ')\n",
    "        print(path)\n",
    "        print(label)\n",
    "        break"
   ]
  },
  {
   "cell_type": "code",
   "execution_count": null,
   "metadata": {},
   "outputs": [],
   "source": []
  }
 ],
 "metadata": {
  "kernelspec": {
   "display_name": "ml",
   "language": "python",
   "name": "python3"
  },
  "language_info": {
   "codemirror_mode": {
    "name": "ipython",
    "version": 3
   },
   "file_extension": ".py",
   "mimetype": "text/x-python",
   "name": "python",
   "nbconvert_exporter": "python",
   "pygments_lexer": "ipython3",
   "version": "3.8.15"
  },
  "orig_nbformat": 4,
  "vscode": {
   "interpreter": {
    "hash": "98824b8ab3fb1024bf0e5db6982363f5748f7094b84b571b0df9908ee861744b"
   }
  }
 },
 "nbformat": 4,
 "nbformat_minor": 2
}
